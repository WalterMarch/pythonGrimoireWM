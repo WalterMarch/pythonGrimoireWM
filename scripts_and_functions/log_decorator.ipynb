{
 "cells": [
  {
   "cell_type": "markdown",
   "metadata": {},
   "source": [
    "A decorator function to log the execution of a function.\n",
    "\n",
    "source: https://www.packtpub.com/free-ebook/clean-code-in-python/9781788835831\n",
    "\n",
    "extended by:\n",
    "https://github.com/WalterMarch"
   ]
  },
  {
   "cell_type": "code",
   "execution_count": 31,
   "metadata": {},
   "outputs": [],
   "source": [
    "from functools import wraps\n",
    "import logging\n",
    "import time\n",
    "\n",
    "logging.basicConfig(level=logging.INFO, format=\"%(levelname)s: %(message)s\")\n",
    "logger = logging.getLogger(__name__)"
   ]
  },
  {
   "cell_type": "code",
   "execution_count": 32,
   "metadata": {},
   "outputs": [],
   "source": [
    "def log_execution(function):\n",
    "    @wraps(function)\n",
    "    def wrapped(*args, **kwargs):\n",
    "        logger.info(f\"Executing {function.__qualname__}\")\n",
    "        arg_list = list(map(lambda x : f\"{x} ({type(x)})\", args))\n",
    "        kwarg_list = list(map(lambda x : f\"{x} ({type(x)})\", kwargs))\n",
    "        logger.info(f\"args: {arg_list}; kwargs: {kwarg_list}\")\n",
    "        return function(*args, **kwargs)\n",
    "    return wrapped"
   ]
  },
  {
   "cell_type": "code",
   "execution_count": 33,
   "metadata": {},
   "outputs": [],
   "source": [
    "def measure_time(function):\n",
    "    @wraps(function)\n",
    "    def wrapped(*args, **kwargs):\n",
    "        start = time.time()\n",
    "        result = function(*args, **kwargs)\n",
    "        end = time.time()\n",
    "        logger.info(f\"result: {result}\")\n",
    "        logger.info(f\"Execution time: {end - start} seconds for {function.__qualname__}\")\n",
    "        return result\n",
    "    return wrapped"
   ]
  },
  {
   "cell_type": "code",
   "execution_count": 34,
   "metadata": {},
   "outputs": [],
   "source": [
    "# sample usage\n",
    "\n",
    "@measure_time\n",
    "@log_execution\n",
    "def find_factors(number: int) -> list:\n",
    "    \"find all factors of a given number\"\n",
    "    factors = []\n",
    "    for i in range(1, number + 1):\n",
    "        if number % i == 0:\n",
    "            factors.append(i)\n",
    "\n",
    "    return factors"
   ]
  },
  {
   "cell_type": "code",
   "execution_count": 35,
   "metadata": {},
   "outputs": [
    {
     "name": "stderr",
     "output_type": "stream",
     "text": [
      "INFO: Executing find_factors\n",
      "INFO: args: [\"1000000 (<class 'int'>)\"]; kwargs: []\n",
      "INFO: result: [1, 2, 4, 5, 8, 10, 16, 20, 25, 32, 40, 50, 64, 80, 100, 125, 160, 200, 250, 320, 400, 500, 625, 800, 1000, 1250, 1600, 2000, 2500, 3125, 4000, 5000, 6250, 8000, 10000, 12500, 15625, 20000, 25000, 31250, 40000, 50000, 62500, 100000, 125000, 200000, 250000, 500000, 1000000]\n",
      "INFO: Execution time: 0.12907958030700684 seconds for find_factors\n"
     ]
    },
    {
     "name": "stdout",
     "output_type": "stream",
     "text": [
      "find_factors\n",
      "find all factors of a given number\n"
     ]
    }
   ],
   "source": [
    "find_factors(1_000_000)\n",
    "print(find_factors.__name__)\n",
    "print(find_factors.__doc__)"
   ]
  }
 ],
 "metadata": {
  "kernelspec": {
   "display_name": "Python 3",
   "language": "python",
   "name": "python3"
  },
  "language_info": {
   "codemirror_mode": {
    "name": "ipython",
    "version": 3
   },
   "file_extension": ".py",
   "mimetype": "text/x-python",
   "name": "python",
   "nbconvert_exporter": "python",
   "pygments_lexer": "ipython3",
   "version": "3.10.12"
  },
  "orig_nbformat": 4
 },
 "nbformat": 4,
 "nbformat_minor": 2
}
