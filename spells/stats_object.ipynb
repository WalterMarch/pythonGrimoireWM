{
 "cells": [
  {
   "cell_type": "markdown",
   "metadata": {},
   "source": [
    "A basic stats object\n",
    "\n",
    "source: https://www.packtpub.com/free-ebook/clean-code-in-python/9781788835831\n",
    "\n",
    "extended by:\n",
    "https://github.com/WalterMarch"
   ]
  },
  {
   "cell_type": "code",
   "execution_count": 10,
   "metadata": {},
   "outputs": [],
   "source": [
    "class IntStats:\n",
    "\n",
    "    def __init__(self, int_list):\n",
    "        self.values = iter(int_list)\n",
    "        self.min_value: int = None\n",
    "        self.max_value: int = None\n",
    "        self._sum_of_values: int = 0.0\n",
    "        self._count_of_values = 0\n",
    "        self._initialize()\n",
    "\n",
    "    def _initialize(self):\n",
    "        try:\n",
    "            first_value = next(self.values)\n",
    "        except StopIteration:\n",
    "            raise ValueError('int_list must contain at least one value')\n",
    "\n",
    "        self.min_value = self.max_value = first_value\n",
    "        self._update_avg(first_value)\n",
    "\n",
    "    def process(self):\n",
    "        for value in self.values:\n",
    "            self._update_min(value)\n",
    "            self._update_max(value)\n",
    "            self._update_avg(value)\n",
    "        return self\n",
    "\n",
    "    def _update_min(self, new_value: int):\n",
    "        if new_value < self.min_value:\n",
    "            self.min_value = new_value\n",
    "\n",
    "    def _update_max(self, new_value: int):\n",
    "        if new_value > self.max_value:\n",
    "            self.max_value = new_value\n",
    "\n",
    "    @property\n",
    "    def avg_value(self):\n",
    "        return self._sum_of_values / self._count_of_values\n",
    "\n",
    "    def _update_avg(self, new_value: int):\n",
    "        self._sum_of_values += new_value\n",
    "        self._count_of_values += 1\n",
    "\n",
    "    def __str__(self) -> str:\n",
    "        return (\n",
    "            f'{self.__class__.__name__}(min_value={self.min_value}, ' +\\\n",
    "            f'max_value={self.max_value}, ' +\\\n",
    "            f'avg_value={self.avg_value})'\n",
    "        )"
   ]
  },
  {
   "cell_type": "code",
   "execution_count": 11,
   "metadata": {},
   "outputs": [
    {
     "name": "stdout",
     "output_type": "stream",
     "text": [
      "IntStats(min_value=1, max_value=1000000, avg_value=50621.163265306124)\n"
     ]
    }
   ],
   "source": [
    "some_data_list = [1, 2, 4, 5, 8, 10, 16, 20, 25, 32, 40, 50, 64, 80, 100, 125, 160, 200, 250, 320, 400, 500, 625, 800, 1000, 1250, 1600, 2000, 2500, 3125, 4000, 5000, 6250, 8000, 10000, 12500, 15625, 20000, 25000, 31250, 40000, 50000, 62500, 100000, 125000, 200000, 250000, 500000, 1000000]\n",
    "stats = IntStats(some_data_list)\n",
    "print(stats.process())"
   ]
  }
 ],
 "metadata": {
  "kernelspec": {
   "display_name": "Python 3",
   "language": "python",
   "name": "python3"
  },
  "language_info": {
   "codemirror_mode": {
    "name": "ipython",
    "version": 3
   },
   "file_extension": ".py",
   "mimetype": "text/x-python",
   "name": "python",
   "nbconvert_exporter": "python",
   "pygments_lexer": "ipython3",
   "version": "3.10.12"
  },
  "orig_nbformat": 4
 },
 "nbformat": 4,
 "nbformat_minor": 2
}
