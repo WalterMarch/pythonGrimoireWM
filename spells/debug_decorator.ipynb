{
 "cells": [
  {
   "cell_type": "markdown",
   "metadata": {},
   "source": [
    "A decorator function to take the place of the print statements for debugging.\n",
    "\n",
    "source: \n",
    "https://realpython.com/inner-functions-what-are-they-good-for/#adding-behavior-with-inner-functions-decorators\n",
    "\n",
    "extended by:\n",
    "https://github.com/WalterMarch\n"
   ]
  },
  {
   "cell_type": "code",
   "execution_count": 10,
   "metadata": {},
   "outputs": [],
   "source": [
    "from functools import wraps\n",
    "\n",
    "def debug(func):\n",
    "    @wraps(func)\n",
    "    def _debug(*args, **kwargs):\n",
    "        result = func(*args, **kwargs)\n",
    "        arg_list = list(map(lambda x : f\"{x} ({type(x)})\", args))\n",
    "        kwarg_list = list(map(lambda x : f\"{x} ({type(x)})\", kwargs))\n",
    "        result_output = f\"{result} ({type(result)})\"\n",
    "        print(\n",
    "            f\"{func.__name__}(args: {arg_list}; kwargs: {kwarg_list}) -> {result_output}\"\n",
    "        )\n",
    "        return result\n",
    "    return _debug"
   ]
  },
  {
   "cell_type": "code",
   "execution_count": 11,
   "metadata": {},
   "outputs": [],
   "source": [
    "# sample usage\n",
    "\n",
    "@debug\n",
    "def find_factors(number: int) -> list:\n",
    "    \"find all factors of a given number\"\n",
    "    factors = []\n",
    "    for i in range(1, number + 1):\n",
    "        if number % i == 0:\n",
    "            factors.append(i)\n",
    "\n",
    "    return factors"
   ]
  },
  {
   "cell_type": "code",
   "execution_count": 12,
   "metadata": {},
   "outputs": [
    {
     "name": "stdout",
     "output_type": "stream",
     "text": [
      "find_factors(args: [\"100 (<class 'int'>)\"]; kwargs: []) -> [1, 2, 4, 5, 10, 20, 25, 50, 100] (<class 'list'>)\n",
      "find_factors\n",
      "find all factors of a given number\n"
     ]
    }
   ],
   "source": [
    "find_factors(100)\n",
    "print(find_factors.__name__)\n",
    "print(find_factors.__doc__)"
   ]
  }
 ],
 "metadata": {
  "kernelspec": {
   "display_name": "Python 3",
   "language": "python",
   "name": "python3"
  },
  "language_info": {
   "codemirror_mode": {
    "name": "ipython",
    "version": 3
   },
   "file_extension": ".py",
   "mimetype": "text/x-python",
   "name": "python",
   "nbconvert_exporter": "python",
   "pygments_lexer": "ipython3",
   "version": "3.10.12"
  },
  "orig_nbformat": 4
 },
 "nbformat": 4,
 "nbformat_minor": 2
}
