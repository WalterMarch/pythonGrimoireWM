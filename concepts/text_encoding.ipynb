{
 "cells": [
  {
   "cell_type": "markdown",
   "metadata": {},
   "source": [
    "# text encoding stuff"
   ]
  },
  {
   "cell_type": "code",
   "execution_count": 5,
   "metadata": {},
   "outputs": [
    {
     "name": "stdout",
     "output_type": "stream",
     "text": [
      "Platform information: Linux-5.15.90.1-microsoft-standard-WSL2-x86_64-with-glibc2.35\n",
      "Python Version: 3.10.12 (main, Jun 11 2023, 05:26:28) [GCC 11.4.0]\n"
     ]
    }
   ],
   "source": [
    "import platform\n",
    "import sys\n",
    "\n",
    "# some preliminary information\n",
    "\n",
    "print(\"Platform information:\", platform.platform())\n",
    "print(\"Python Version:\", sys.version)"
   ]
  },
  {
   "cell_type": "code",
   "execution_count": 6,
   "metadata": {},
   "outputs": [
    {
     "name": "stdout",
     "output_type": "stream",
     "text": [
      "UTF-8\n"
     ]
    }
   ],
   "source": [
    "# https://www.oreilly.com/library/view/effective-python-90/9780134854717/\n",
    "# Effective Python 90 SPECIFIC WAYS TO WRITE BETTER PYTHON  Second Edition  Brett Slatkin\n",
    "# https://github.com/bslatkin/effectivepython\n",
    "\n",
    "import locale\n",
    "\n",
    "print(locale.getpreferredencoding())"
   ]
  },
  {
   "cell_type": "code",
   "execution_count": 7,
   "metadata": {},
   "outputs": [
    {
     "name": "stdout",
     "output_type": "stream",
     "text": [
      "b'thing1'\n",
      "b'thing1'\n",
      "b'thing2'\n",
      "b'thing2'\n"
     ]
    }
   ],
   "source": [
    "# https://www.oreilly.com/library/view/effective-python-90/9780134854717/\n",
    "# Effective Python 90 SPECIFIC WAYS TO WRITE BETTER PYTHON  Second Edition  Brett Slatkin\n",
    "# https://github.com/bslatkin/effectivepython\n",
    "\n",
    "\n",
    "def to_bytes(bytes_or_str):\n",
    "    if isinstance(bytes_or_str, str):\n",
    "        value = bytes_or_str.encode(\"utf-8\")\n",
    "    else:\n",
    "        value = bytes_or_str\n",
    "    return value\n",
    "\n",
    "\n",
    "print(to_bytes(b\"thing1\"))\n",
    "print(repr(to_bytes(b\"thing1\")))\n",
    "\n",
    "print(to_bytes(\"thing2\"))\n",
    "print(repr(to_bytes(\"thing2\")))"
   ]
  },
  {
   "cell_type": "code",
   "execution_count": 8,
   "metadata": {},
   "outputs": [
    {
     "name": "stdout",
     "output_type": "stream",
     "text": [
      "thing1\n",
      "'thing1'\n",
      "thing2\n",
      "'thing2'\n"
     ]
    }
   ],
   "source": [
    "# https://www.oreilly.com/library/view/effective-python-90/9780134854717/\n",
    "# Effective Python 90 SPECIFIC WAYS TO WRITE BETTER PYTHON  Second Edition  Brett Slatkin\n",
    "# https://github.com/bslatkin/effectivepython\n",
    "\n",
    "\n",
    "def to_str(bytes_or_str):\n",
    "    if isinstance(bytes_or_str, bytes):\n",
    "        value = bytes_or_str.decode(\"utf-8\")\n",
    "    else:\n",
    "        value = bytes_or_str\n",
    "    return value\n",
    "\n",
    "\n",
    "print(to_str(b\"thing1\"))\n",
    "print(repr(to_str(b\"thing1\")))\n",
    "\n",
    "print(to_str(\"thing2\"))\n",
    "print(repr(to_str(\"thing2\")))\n"
   ]
  }
 ],
 "metadata": {
  "kernelspec": {
   "display_name": "Python 3",
   "language": "python",
   "name": "python3"
  },
  "language_info": {
   "codemirror_mode": {
    "name": "ipython",
    "version": 3
   },
   "file_extension": ".py",
   "mimetype": "text/x-python",
   "name": "python",
   "nbconvert_exporter": "python",
   "pygments_lexer": "ipython3",
   "version": "3.10.12"
  },
  "orig_nbformat": 4
 },
 "nbformat": 4,
 "nbformat_minor": 2
}
